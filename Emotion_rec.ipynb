{
  "nbformat": 4,
  "nbformat_minor": 0,
  "metadata": {
    "colab": {
      "name": "Emotion_rec.ipynb",
      "provenance": [],
      "mount_file_id": "1NCqRT1uBu_oZmyB7yyxIZI0LoDx6lO2U",
      "authorship_tag": "ABX9TyMI3uqKjU+eT9K9FW50SCBa",
      "include_colab_link": true
    },
    "kernelspec": {
      "name": "python3",
      "display_name": "Python 3"
    }
  },
  "cells": [
    {
      "cell_type": "markdown",
      "metadata": {
        "id": "view-in-github",
        "colab_type": "text"
      },
      "source": [
        "<a href=\"https://colab.research.google.com/github/Ufuff/colab-ipynb/blob/main/Emotion_rec.ipynb\" target=\"_parent\"><img src=\"https://colab.research.google.com/assets/colab-badge.svg\" alt=\"Open In Colab\"/></a>"
      ]
    },
    {
      "cell_type": "code",
      "metadata": {
        "id": "EyvDUL6zTvO2",
        "colab": {
          "base_uri": "https://localhost:8080/"
        },
        "outputId": "f92ebf8b-b7d7-4978-9b89-45d1fdb94c32"
      },
      "source": [
        "from google.colab import drive\n",
        "drive.mount('/content/drive')"
      ],
      "execution_count": null,
      "outputs": [
        {
          "output_type": "stream",
          "text": [
            "Drive already mounted at /content/drive; to attempt to forcibly remount, call drive.mount(\"/content/drive\", force_remount=True).\n"
          ],
          "name": "stdout"
        }
      ]
    },
    {
      "cell_type": "code",
      "metadata": {
        "id": "TQj2ZaUK3S4j"
      },
      "source": [
        "import numpy as np\n",
        "import cv2\n",
        "import os\n",
        "import glob\n",
        "import matplotlib.pyplot as plt\n",
        "from PIL import Image\n",
        "import tensorflow as tf\n",
        "from tensorflow.keras.applications import MobileNetV2\n",
        "from tensorflow.keras.layers import Dropout, Flatten, Dense, GlobalAveragePooling2D\n",
        "from tensorflow.keras.optimizers import Adam, RMSprop, SGD\n",
        "from tensorflow import lite \n",
        "from tensorflow.keras.callbacks import ModelCheckpoint, ReduceLROnPlateau\n",
        "from tensorflow.keras.models import load_model"
      ],
      "execution_count": null,
      "outputs": []
    },
    {
      "cell_type": "code",
      "metadata": {
        "id": "X7QspvWG-t1e"
      },
      "source": [
        "def frame_from_video(dir_inp, dir_out):\n",
        "    files = os.listdir(dir_inp)\n",
        "    files = sorted(files)\n",
        "    for f in files:\n",
        "        print(f)\n",
        "        vidcap = cv2.VideoCapture(dir_inp + f)\n",
        "        success, image = vidcap.read()\n",
        "        count = 0\n",
        "        while success:\n",
        "            if count < 10:\n",
        "                cv2.imwrite(dir_out + f[:11] + \"_frame_00%d.jpg\" % count, image)\n",
        "                success, image = vidcap.read()\n",
        "                count += 1\n",
        "            else:\n",
        "                if count < 100:\n",
        "                    cv2.imwrite(dir_out + f[:11] + \"_frame_0%d.jpg\" % count, image)\n",
        "                    success, image = vidcap.read()\n",
        "                    count += 1\n",
        "                else:\n",
        "                    cv2.imwrite(dir_out + f[:11] + \"_frame_%d.jpg\" % count, image)\n",
        "                    success, image = vidcap.read()\n",
        "                    count += 1"
      ],
      "execution_count": null,
      "outputs": []
    },
    {
      "cell_type": "code",
      "metadata": {
        "id": "Zc0gQJVkAmt0"
      },
      "source": [
        "def emotion_rec(dir_frames, dir_out_emotion_rec):\n",
        "    label_map = ['Evil', 'Squeamish', 'Scared', 'Happy', 'Sad', 'Surprised', 'Neutral', 'Face_is_missing']\n",
        "    filepath = \"/content/drive/My Drive/models/aug/model_aug_back_best_1.h5\"\n",
        "    saved_model_aug = load_model(filepath)\n",
        "    files = os.listdir(dir_frames)\n",
        "    files = sorted(files)\n",
        "    for f in files:\n",
        "      face_cascade = cv2.CascadeClassifier(cv2.data.haarcascades + 'haarcascade_frontalface_default.xml')\n",
        "      img = cv2.imread(dir_frames + f, cv2.IMREAD_GRAYSCALE)\n",
        "      faces = face_cascade.detectMultiScale(img, 1.3, 5)\n",
        "      face_img = img[faces[0][1]:faces[0][1]+faces[0][3],faces[0][0]:faces[0][0]+faces[0][2]]\n",
        "      newsize = (48, 48) \n",
        "      im = cv2.resize(face_img, newsize)\n",
        "      im = im/255\n",
        "      x_test_rgb = np.repeat(im[..., np.newaxis], 3, -1)\n",
        "      saved_model_aug = load_model(filepath)\n",
        "      scores = saved_model_aug.predict(x_test_rgb.reshape(1, 48, 48, 3))\n",
        "      cv2.putText(img, label_map[scores.argmax()], (300, 500),cv2.FONT_HERSHEY_SIMPLEX, 5, (255, 255, 255), 10) \n",
        "      cv2.imwrite(dir_out_emotion_rec + f, img)"
      ],
      "execution_count": null,
      "outputs": []
    },
    {
      "cell_type": "code",
      "metadata": {
        "id": "F9ZeAYKV_uDL"
      },
      "source": [
        "!mkdir frames_2\n",
        "!mkdir emo_rec_3"
      ],
      "execution_count": null,
      "outputs": []
    },
    {
      "cell_type": "code",
      "metadata": {
        "id": "ey8KFHfJ_6Q0",
        "colab": {
          "base_uri": "https://localhost:8080/"
        },
        "outputId": "a4e5e786-38bf-474b-b990-73224bdceca7"
      },
      "source": [
        "frame_from_video(\"/content/drive/My Drive/project_rsl/face_component/video_2/\",\"/content/frames_2/\")"
      ],
      "execution_count": null,
      "outputs": [
        {
          "output_type": "stream",
          "text": [
            "1000013_2_1_1.mp4\n"
          ],
          "name": "stdout"
        }
      ]
    },
    {
      "cell_type": "code",
      "metadata": {
        "id": "XhIzdxuPMEaK"
      },
      "source": [
        "dir_frames = \"/content/frames_2/\"\n",
        "dir_out_emotion_rec = \"/content/emo_rec_3/\"\n",
        "emotion_rec(dir_frames, dir_out_emotion_rec)"
      ],
      "execution_count": null,
      "outputs": []
    },
    {
      "cell_type": "code",
      "metadata": {
        "id": "j_hJCaaXJ2Se"
      },
      "source": [
        "img_array = []\n",
        "files = glob.glob('/content/emo_rec_3/*.jpg')\n",
        "files = sorted(files)\n",
        "for filename in files:\n",
        "    img = cv2.imread(filename)\n",
        "    height, width, layers = img.shape\n",
        "    size = (width,height)\n",
        "    img_array.append(img)\n",
        "\n",
        "out = cv2.VideoWriter('test_2.avi',cv2.VideoWriter_fourcc(*'DIVX'), 15, size)\n",
        " \n",
        "for i in range(len(img_array)):\n",
        "    out.write(img_array[i])\n",
        "out.release()"
      ],
      "execution_count": null,
      "outputs": []
    }
  ]
}